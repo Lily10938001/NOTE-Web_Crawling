{
 "cells": [
  {
   "cell_type": "code",
   "execution_count": null,
   "metadata": {},
   "outputs": [],
   "source": [
    "## 下載爬蟲、截圖、裁圖、資料庫相關套件\n",
    "\n",
    "!pip install selenium\n",
    "!pip install Pillow\n",
    "!pip install pytesseract \n",
    "!pip install pymysql "
   ]
  },
  {
   "cell_type": "code",
   "execution_count": 18,
   "metadata": {},
   "outputs": [
    {
     "name": "stderr",
     "output_type": "stream",
     "text": [
      "C:\\Users\\user\\AppData\\Local\\Temp/ipykernel_4744/3954492159.py:7: DeprecationWarning: executable_path has been deprecated, please pass in a Service object\n",
      "  driver = Chrome('C:/Users/user/Desktop/chromedriver')\n",
      "C:\\Users\\user\\AppData\\Local\\Temp/ipykernel_4744/3954492159.py:15: DeprecationWarning: find_element_by_xpath is deprecated. Please use find_element(by=By.XPATH, value=xpath) instead\n",
      "  driver.find_element_by_xpath('//*[@id=\"intro\"]/div/div[1]/div/h2').screenshot(final_path)\n"
     ]
    }
   ],
   "source": [
    "## 用selenium截圖\n",
    "\n",
    "from selenium.webdriver import Chrome\n",
    "from selenium.webdriver.common.action_chains import ActionChains\n",
    "import time\n",
    "\n",
    "driver = Chrome('C:/Users/user/Desktop/chromedriver')\n",
    "url = 'https://ntc.im/pn/' \n",
    "driver.get(url)\n",
    "time.sleep(8)\n",
    "\n",
    "# 找到目標的位置,截圖並存檔\n",
    "action = ActionChains(driver)\n",
    "final_path = \"./ScreenShot.png\"\n",
    "driver.find_element_by_xpath('//*[@id=\"intro\"]/div/div[1]/div/h2').screenshot(final_path)\n",
    "\n",
    "driver.close()"
   ]
  },
  {
   "cell_type": "code",
   "execution_count": 19,
   "metadata": {},
   "outputs": [],
   "source": [
    "## 較大範圍的截圖可事後裁切出指定位置\n",
    "\n",
    "from PIL import Image\n",
    "\n",
    "img = Image.open(\"./ScreenShot.png\")\n",
    "img2 = img.crop((240,240,780,360))  # 裁切大小\n",
    "img2.save(\"./ScreenShot2.png\")  # 儲存圖片"
   ]
  },
  {
   "cell_type": "code",
   "execution_count": 20,
   "metadata": {},
   "outputs": [
    {
     "name": "stdout",
     "output_type": "stream",
     "text": [
      "你不需要很厲害才能開始\n"
     ]
    }
   ],
   "source": [
    "## 將截圖的文字擷取下來轉成str\n",
    "\n",
    "import pytesseract    # 需要下載執行檔並將檔案路徑新增至環境變數   # 安裝時語言可多勾選繁體中文\n",
    "\n",
    "P = Image.open(final_path)\n",
    "STR = pytesseract.image_to_string(P,lang='chi_tra').split('\\n')[0].strip()  # 因為文字都是中文,用'chi_tra'可翻譯得更正確\n",
    "print(STR)"
   ]
  },
  {
   "cell_type": "code",
   "execution_count": 21,
   "metadata": {},
   "outputs": [
    {
     "data": {
      "text/plain": [
       "<bound method Connection.close of <pymysql.connections.Connection object at 0x000000D540A6B8B0>>"
      ]
     },
     "execution_count": 21,
     "metadata": {},
     "output_type": "execute_result"
    }
   ],
   "source": [
    "## 連線至MySQL,新增一個table以存取文字和圖片\n",
    "\n",
    "import pymysql\n",
    "\n",
    "def db_init():\n",
    "   db = pymysql.connect(\n",
    "       host='127.0.0.1',\n",
    "       user='root',\n",
    "       password='0710',\n",
    "       port=3306,    \n",
    "       db='newschema' \n",
    "   )\n",
    "   cursor = db.cursor(pymysql.cursors.DictCursor)\n",
    "   return db, cursor\n",
    "\n",
    "db, cursor = db_init()\n",
    "\n",
    "# 先新增table,欄位包含ID、char和image_path\n",
    "sql = \"CREATE TABLE IF NOT EXISTS `newschema`.`text` (`id` INT NOT NULL AUTO_INCREMENT,`char` VARCHAR(45) NULL,`image_path` VARCHAR(100) NULL,PRIMARY KEY (`id`));\"\n",
    "cursor.execute(sql) \n",
    "db.commit()\n",
    "\n",
    "# 將字串和圖檔路徑存入MySQL Database\n",
    "sql2 = f\"INSERT INTO `newschema`.`text` (`char`,`image_path`) VALUE ('{STR}','{final_path}');\"   \n",
    "cursor.execute(sql2) \n",
    "db.commit()\n",
    "\n",
    "db.close"
   ]
  },
  {
   "cell_type": "code",
   "execution_count": 25,
   "metadata": {},
   "outputs": [
    {
     "name": "stdout",
     "output_type": "stream",
     "text": [
      "你不需要很厲害才能開始 ./ScreenShot.png\n"
     ]
    }
   ],
   "source": [
    "## 從MySQL Database搜尋並取用字串和圖檔路徑\n",
    "\n",
    "db, cursor = db_init()\n",
    "sql3 = \"SELECT `char`,`image_path` FROM `newschema`.`text` where id = 1;\"   \n",
    "cursor.execute(sql3) \n",
    "c = cursor.fetchone()\n",
    "char = str(c['char'])\n",
    "image_path = c['image_path']\n",
    "db.close\n",
    "print(char)"
   ]
  },
  {
   "cell_type": "code",
   "execution_count": 29,
   "metadata": {},
   "outputs": [
    {
     "name": "stderr",
     "output_type": "stream",
     "text": [
      "C:\\Users\\user\\AppData\\Local\\Temp/ipykernel_4744/1657512496.py:3: DeprecationWarning: executable_path has been deprecated, please pass in a Service object\n",
      "  driver = Chrome('C:/Users/user/Desktop/chromedriver')\n",
      "C:\\Users\\user\\AppData\\Local\\Temp/ipykernel_4744/1657512496.py:22: DeprecationWarning: find_element_by_xpath is deprecated. Please use find_element(by=By.XPATH, value=xpath) instead\n",
      "  pic_upload = driver.find_element_by_xpath('//*[@id=\"img_src\"]')\n",
      "C:\\Users\\user\\AppData\\Local\\Temp/ipykernel_4744/1657512496.py:27: DeprecationWarning: find_element_by_class_name is deprecated. Please use find_element(by=By.CLASS_NAME, value=name) instead\n",
      "  submit_button = driver.find_element_by_class_name('btn')\n"
     ]
    }
   ],
   "source": [
    "## 將搜尋出來的文字和圖檔上傳至網頁\n",
    "\n",
    "driver = Chrome('C:/Users/user/Desktop/chromedriver')\n",
    "url2 = 'https://ntc.microtrend.tw/202202?classid=DV101&studentid=05'\n",
    "driver.get(url2)\n",
    "time.sleep(5)\n",
    "\n",
    "# 將文字填入\n",
    "driver.execute_script('document.getElementsByClassName(\"align-self-center me-2 \")[1].insertAdjacentElement(\"afterend\",document.createElement(\"input\"))')   # 在網站的指定位置新增一個input欄位\n",
    "driver.execute_script('document.getElementsByTagName(\"input\")[4].setAttribute(\"autocomplete\",\"false\")')   # 設置input欄位的Attribute和value\n",
    "driver.execute_script('document.getElementsByTagName(\"input\")[4].setAttribute(\"type\",\"text\")')\n",
    "driver.execute_script('document.getElementsByTagName(\"input\")[4].setAttribute(\"class\",\"form-control border-0 border-bottom\")')\n",
    "driver.execute_script('document.getElementsByTagName(\"input\")[4].setAttribute(\"name\",\"anwser\")')\n",
    "driver.execute_script('document.getElementsByTagName(\"input\")[4].setAttribute(\"id\",\"anwser\")')\n",
    "driver.execute_script('document.getElementsByTagName(\"input\")[4].setAttribute(\"placeholder\",\"放入OCR解析的字串\")')\n",
    "driver.execute_script(f'document.getElementsByTagName(\"input\")[4].setAttribute(\"value\",\"{char}\")')   # 在value填入文字\n",
    "driver.execute_script('document.getElementsByTagName(\"input\")[4].setAttribute(\"required\",\"required\")')\n",
    "driver.execute_script('document.getElementsByTagName(\"input\")[4].setAttribute(\"readonly\",\"\")')\n",
    "#driver.execute_script(f'document.getElementById(\"anwser\").value=\"{char}\"')\n",
    "\n",
    "# 將圖片上傳\n",
    "pic_upload = driver.find_element_by_xpath('//*[@id=\"img_src\"]')\n",
    "pic_upload.send_keys(image_path)  \n",
    "\n",
    "\n",
    "# 按下提交按鈕\n",
    "submit_button = driver.find_element_by_class_name('btn')\n",
    "submit_button.click()"
   ]
  }
 ],
 "metadata": {
  "interpreter": {
   "hash": "247ab06e135bb35fa78c5eff31b2a9a0050dcb5fb773c2631d2a29ac689eeccb"
  },
  "kernelspec": {
   "display_name": "Python 3.9.6 64-bit",
   "language": "python",
   "name": "python3"
  },
  "language_info": {
   "codemirror_mode": {
    "name": "ipython",
    "version": 3
   },
   "file_extension": ".py",
   "mimetype": "text/x-python",
   "name": "python",
   "nbconvert_exporter": "python",
   "pygments_lexer": "ipython3",
   "version": "3.9.6"
  },
  "orig_nbformat": 4
 },
 "nbformat": 4,
 "nbformat_minor": 2
}
