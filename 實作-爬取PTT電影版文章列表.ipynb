{
 "cells": [
  {
   "cell_type": "code",
   "execution_count": 1,
   "id": "0009eaa3",
   "metadata": {},
   "outputs": [
    {
     "name": "stdout",
     "output_type": "stream",
     "text": [
      "[<div class=\"title\">\n",
      "<a href=\"/bbs/movie/M.1635842619.A.E2B.html\">[新聞] 丹尼維勒納夫想把《沙丘》拍成三部曲 </a>\n",
      "</div>, <div class=\"title\">\n",
      "<a href=\"/bbs/movie/M.1635842780.A.0D4.html\">[新聞] 億萬大導開腦洞 月亮破洞墜地球 首支預告陰謀論再起!</a>\n",
      "</div>, <div class=\"title\">\n",
      "<a href=\"/bbs/movie/M.1635843397.A.A5C.html\">[問片] 尋找一部古裝老片 (已問到)</a>\n",
      "</div>, <div class=\"title\">\n",
      "<a href=\"/bbs/movie/M.1635852540.A.A60.html\">Re: [贈獎]漫威史詩大片：永恆族贈獎(公布得獎者)</a>\n",
      "</div>, <div class=\"title\">\n",
      "<a href=\"/bbs/movie/M.1630756788.A.1FE.html\">[公告] 電影板板規 2021/9/4</a>\n",
      "</div>, <div class=\"title\">\n",
      "<a href=\"/bbs/movie/M.1630734048.A.152.html\">[公告] 請注意防雷 / 分類</a>\n",
      "</div>, <div class=\"title\">\n",
      "<a href=\"/bbs/movie/M.1633428583.A.FAE.html\">[情報] 2021 第58屆金馬獎 入圍名單&amp;入圍統計</a>\n",
      "</div>, <div class=\"title\">\n",
      "<a href=\"/bbs/movie/M.1589355894.A.CDD.html\">[情報] 近期院線預計重映片單</a>\n",
      "</div>]\n",
      "[新聞] 丹尼維勒納夫想把《沙丘》拍成三部曲 \n",
      "https://www.ptt.cc/bbs/movie/M.1635842619.A.E2B.html\n",
      "\n",
      "[新聞] 億萬大導開腦洞 月亮破洞墜地球 首支預告陰謀論再起!\n",
      "https://www.ptt.cc/bbs/movie/M.1635842780.A.0D4.html\n",
      "\n",
      "[問片] 尋找一部古裝老片 (已問到)\n",
      "https://www.ptt.cc/bbs/movie/M.1635843397.A.A5C.html\n",
      "\n",
      "Re: [贈獎]漫威史詩大片：永恆族贈獎(公布得獎者)\n",
      "https://www.ptt.cc/bbs/movie/M.1635852540.A.A60.html\n",
      "\n",
      "[公告] 電影板板規 2021/9/4\n",
      "https://www.ptt.cc/bbs/movie/M.1630756788.A.1FE.html\n",
      "\n",
      "[公告] 請注意防雷 / 分類\n",
      "https://www.ptt.cc/bbs/movie/M.1630734048.A.152.html\n",
      "\n",
      "[情報] 2021 第58屆金馬獎 入圍名單&入圍統計\n",
      "https://www.ptt.cc/bbs/movie/M.1633428583.A.FAE.html\n",
      "\n",
      "[情報] 近期院線預計重映片單\n",
      "https://www.ptt.cc/bbs/movie/M.1589355894.A.CDD.html\n",
      "\n"
     ]
    }
   ],
   "source": [
    "import requests\n",
    "from bs4 import BeautifulSoup\n",
    "\n",
    "headers = {'User-Agent' : 'Mozilla/5.0 (Windows NT 6.3; WOW64) AppleWebKit/537.36 (KHTML, like Gecko) Chrome/95.0.4638.54 Safari/537.36'}\n",
    "url = 'https://www.ptt.cc/bbs/movie/index.html'\n",
    "\n",
    "res = requests.get(url, headers = headers)\n",
    "\n",
    "soup = BeautifulSoup(res.text, 'html.parser')\n",
    "\n",
    "# print(soup.prettify())\n",
    "\n",
    "# 找到標題的標籤位置\n",
    "article_title_html = soup.select('div[class=\"title\"]')\n",
    "print(article_title_html)\n",
    "\n",
    "# 列出文章標題和網址\n",
    "for each_article in article_title_html:\n",
    "    print(each_article.a.text)\n",
    "    print('https://www.ptt.cc' + each_article.a['href'])\n",
    "    print()"
   ]
  },
  {
   "cell_type": "code",
   "execution_count": null,
   "id": "233158c7",
   "metadata": {},
   "outputs": [],
   "source": []
  }
 ],
 "metadata": {
  "kernelspec": {
   "display_name": "Python 3",
   "language": "python",
   "name": "python3"
  },
  "language_info": {
   "codemirror_mode": {
    "name": "ipython",
    "version": 3
   },
   "file_extension": ".py",
   "mimetype": "text/x-python",
   "name": "python",
   "nbconvert_exporter": "python",
   "pygments_lexer": "ipython3",
   "version": "3.8.10"
  }
 },
 "nbformat": 4,
 "nbformat_minor": 5
}
