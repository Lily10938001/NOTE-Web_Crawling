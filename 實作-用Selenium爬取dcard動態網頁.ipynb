{
 "cells": [
  {
   "cell_type": "code",
   "execution_count": null,
   "id": "ba98b4c5",
   "metadata": {},
   "outputs": [],
   "source": [
    "from selenium.webdriver import Chrome\n",
    "import time\n",
    "\n",
    "driver = Chrome('./chromedriver')\n",
    "url = 'https://www.dcard.tw/f'\n",
    "\n",
    "driver.get(url)\n",
    "time.sleep(5)\n",
    "\n",
    "# 搜尋特定關鍵字\n",
    "driver.find_element_by_tag_name('input').send_keys('攝影')\n",
    "time.sleep(5)\n",
    "\n",
    "# 按下查詢按鈕\n",
    "driver.find_element_by_xpath('//*[@id=\"__next\"]/div[1]/div/div[1]/div/div/form/button[2]').click()\n",
    "time.sleep(5)\n",
    "\n",
    "# 將網頁畫面往下滾動至離頂部 5000 高度的位子\n",
    "driver.execute_script('var s = document.documentElement.scrollTop=5000')\n",
    "time.sleep(5)\n",
    "\n",
    "# 將網頁畫面滾到最上方\n",
    "driver.execute_script('var s = document.documentElement.scrollTop=0')\n",
    "time.sleep(5)\n",
    "\n",
    "driver.execute_script('var s = document.documentElement.scrollTop=10000')\n",
    "time.sleep(5)\n",
    "\n",
    "# 取得目前的 html 字串\n",
    "html = driver.execute_script(\"return document.getElementsByTagName('html')[0].outerHTML\")\n",
    "print(html)"
   ]
  },
  {
   "cell_type": "code",
   "execution_count": null,
   "id": "01857d66",
   "metadata": {},
   "outputs": [],
   "source": []
  }
 ],
 "metadata": {
  "kernelspec": {
   "display_name": "Python 3",
   "language": "python",
   "name": "python3"
  },
  "language_info": {
   "codemirror_mode": {
    "name": "ipython",
    "version": 3
   },
   "file_extension": ".py",
   "mimetype": "text/x-python",
   "name": "python",
   "nbconvert_exporter": "python",
   "pygments_lexer": "ipython3",
   "version": "3.8.10"
  }
 },
 "nbformat": 4,
 "nbformat_minor": 5
}
